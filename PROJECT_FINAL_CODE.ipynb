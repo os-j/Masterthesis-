{
 "cells": [
  {
   "cell_type": "code",
   "execution_count": 1,
   "id": "90e5c475",
   "metadata": {},
   "outputs": [],
   "source": [
    "import pandas as pd  \n",
    "import matplotlib.pyplot as plt # data processing, CSV file I/O (e.g. pd.read_csv)\n",
    "import seaborn as sns\n",
    "from sklearn.preprocessing import LabelEncoder\n",
    "from sklearn.model_selection import train_test_split\n",
    "from sklearn.metrics import confusion_matrix\n",
    "from keras.preprocessing.text import Tokenizer\n",
    "\n",
    "\n",
    "\n",
    "import tensorflow as tf\n",
    "from tensorflow import keras\n",
    "from tensorflow.keras import layers\n",
    " \n",
    "from tensorflow.keras.models import Sequential\n",
    "from tensorflow.keras.layers import Dense\n",
    "from tensorflow.keras.layers import Dropout\n",
    "\n",
    "from keras.layers import LSTM, Dense, Dropout, Embedding\n",
    "from keras.preprocessing import sequence\n",
    "from keras.utils import np_utils\n",
    "from tensorflow.python.keras.models import Sequential\n",
    "from keras.layers import SpatialDropout1D\n",
    "from mlxtend.plotting import plot_confusion_matrix"
   ]
  },
  {
   "cell_type": "code",
   "execution_count": 2,
   "id": "d9110ad6",
   "metadata": {},
   "outputs": [],
   "source": [
    "malware_calls_df = pd.read_csv(\"calls.zip\", compression=\"zip\",\n",
    "                               sep=\"\\t\", names=[\"API_Calls\"])\n",
    "\n",
    "malware_labels_df = pd.read_csv(\"types.zip\", compression=\"zip\",\n",
    "                                sep=\"\\t\", names=[\"API_Labels\"])\n",
    "\n",
    "malware_calls_df[\"API_Labels\"] = malware_labels_df.API_Labels\n",
    "malware_calls_df[\"API_Calls\"] = malware_calls_df.API_Calls.apply(lambda x: \" \".join(x.split(\",\")))\n",
    "\n",
    "malware_calls_df[\"API_Labels\"] = malware_calls_df.API_Labels.apply(lambda x: 1 if x == \"Virus\" else 0)"
   ]
  },
  {
   "cell_type": "code",
   "execution_count": 4,
   "id": "63b0efec",
   "metadata": {},
   "outputs": [
    {
     "name": "stderr",
     "output_type": "stream",
     "text": [
      "C:\\Users\\acer\\anaconda3\\lib\\site-packages\\seaborn\\_decorators.py:36: FutureWarning: Pass the following variable as a keyword arg: x. From version 0.12, the only valid positional argument will be `data`, and passing other arguments without an explicit keyword will result in an error or misinterpretation.\n",
      "  warnings.warn(\n"
     ]
    },
    {
     "data": {
      "image/png": "[encoded data removed]",
      "text/plain": [
       "<Figure size 432x288 with 1 Axes>"
      ]
     },
     "metadata": {
      "needs_background": "light"
     },
     "output_type": "display_data"
    }
   ],
   "source": [
    "sns.countplot(malware_calls_df.API_Labels)\n",
    "plt.xlabel('Labels')\n",
    "plt.title('Class distribution')\n",
    "plt.savefig(\"class_distribution.png\")\n",
    "plt.show()"
   ]
  },
  {
   "cell_type": "code",
   "execution_count": 20,
   "id": "befbbe4f",
   "metadata": {},
   "outputs": [],
   "source": [
    "from keras.preprocessing.text import Tokenizer\n",
    "from keras.preprocessing.sequence import pad_sequences"
   ]
  },
  {
   "cell_type": "code",
   "execution_count": null,
   "id": "8b035d44",
   "metadata": {},
   "outputs": [],
   "source": [
    "max_words = 800\n",
    "max_len = 100\n",
    "\n",
    "X = malware_calls_df.API_Calls\n",
    "Y = malware_calls_df.API_Labels.astype('category').cat.codes\n",
    "\n",
    "tok = Tokenizer(num_words=max_words)\n",
    "tok.fit_on_texts(X)\n",
    "print('Found %s unique tokens.' % len(tok.word_index))\n",
    "X = tok.texts_to_sequences(X.values)\n",
    "X = sequence.pad_sequences(X, maxlen=max_len)\n",
    "print('Shape of data tensor:', X.shape)\n",
    "\n",
    "X_train, X_test, Y_train, Y_test = train_test_split(X, Y,\n",
    "                                                    test_size=0.15)\n",
    "\n",
    "le = LabelEncoder()\n",
    "Y_train_enc = le.fit_transform(Y_train)\n",
    "Y_train_enc = np_utils.to_categorical(Y_train_enc)\n",
    "\n",
    "Y_test_enc = le.transform(Y_test)\n",
    "Y_test_enc = np_utils.to_categorical(Y_test_enc)\n"
   ]
  },
  {
   "cell_type": "code",
   "execution_count": null,
   "id": "9e72303e",
   "metadata": {},
   "outputs": [],
   "source": [
    "\n",
    " \n",
    "# define the LSTM model\n",
    "def malware_model(act_func=\"softsign\"):\n",
    "    model = Sequential()\n",
    "    model.add(Embedding(max_words, 300, input_length=max_len))\n",
    "    model.add(SpatialDropout1D(0.1))\n",
    "    model.add(LSTM(32, dropout=0.1, recurrent_dropout=0.1,\n",
    "                   return_sequences=True, activation=act_func))\n",
    "    model.add(LSTM(32, dropout=0.1, activation=act_func, return_sequences=True))\n",
    "    model.add(LSTM(32, dropout=0.1, activation=act_func))\n",
    "    model.add(Dense(128, activation=act_func))\n",
    "    model.add(Dropout(0.1))\n",
    "    model.add(Dense(256, activation=act_func))\n",
    "    model.add(Dropout(0.1))\n",
    "    model.add(Dense(128, activation=act_func))\n",
    "    model.add(Dropout(0.1))\n",
    "    model.add(Dense(1, name='out_layer', activation=\"linear\"))\n",
    "    return model"
   ]
  },
  {
   "cell_type": "code",
   "execution_count": null,
   "id": "a4c3f519",
   "metadata": {},
   "outputs": [],
   "source": [
    "import tensorflow as tf\n",
    "print(tf.__version__)"
   ]
  },
  {
   "cell_type": "code",
   "execution_count": null,
   "id": "30c02c25",
   "metadata": {},
   "outputs": [],
   "source": [
    "import tensorflow as tf\n",
    "from tensorflow.keras.layers import Input"
   ]
  },
  {
   "cell_type": "code",
   "execution_count": null,
   "id": "4bbf1ab4",
   "metadata": {},
   "outputs": [],
   "source": [
    "tf.Graph()"
   ]
  },
  {
   "cell_type": "code",
   "execution_count": null,
   "id": "d516fd69",
   "metadata": {},
   "outputs": [],
   "source": [
    "tf.compat.v1.get_default_graph()"
   ]
  },
  {
   "cell_type": "code",
   "execution_count": null,
   "id": "08286018",
   "metadata": {},
   "outputs": [],
   "source": [
    "import h5py\n",
    "import numpy as np\n",
    "import pandas as pd"
   ]
  },
  {
   "cell_type": "code",
   "execution_count": null,
   "id": "47b7c5e7",
   "metadata": {
    "scrolled": false
   },
   "outputs": [],
   "source": [
    "model = malware_model()\n",
    "print(model.summary())\n",
    "model.compile(loss='mse', optimizer=\"rmsprop\",\n",
    "              metrics=['accuracy'])\n",
    "\n",
    "filepath = \"lstm-malware-model.hdf5\"\n",
    "model.load_weights(filepath)\n",
    "\n",
    "history = model.fit(X_train, Y_train, batch_size=1000, epochs=10,\n",
    "                    validation_data=(X_test, Y_test), verbose=1)"
   ]
  },
  {
   "cell_type": "code",
   "execution_count": null,
   "id": "a99a185d",
   "metadata": {},
   "outputs": [],
   "source": [
    "y_test_pred = model.predict_classes(X_test)\n",
    "cm = confusion_matrix(Y_test, y_test_pred)\n",
    "\n",
    "plot_confusion_matrix(conf_mat=cm,\n",
    "                      show_absolute=True,\n",
    "                      show_normed=True,\n",
    "                      colorbar=True)\n",
    "plt.savefig(\"confusion_matrix.png\")\n",
    "plt.show()"
   ]
  },
  {
   "cell_type": "code",
   "execution_count": null,
   "id": "c7f89808",
   "metadata": {},
   "outputs": [],
   "source": []
  }
 ],
 "metadata": {
  "kernelspec": {
   "display_name": "Python 3",
   "language": "python",
   "name": "python3"
  },
  "language_info": {
   "codemirror_mode": {
    "name": "ipython",
    "version": 3
   },
   "file_extension": ".py",
   "mimetype": "text/x-python",
   "name": "python",
   "nbconvert_exporter": "python",
   "pygments_lexer": "ipython3",
   "version": "3.8.8"
  }
 },
 "nbformat": 4,
 "nbformat_minor": 5
}
